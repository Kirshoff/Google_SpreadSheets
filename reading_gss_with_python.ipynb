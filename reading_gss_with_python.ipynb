{
 "metadata": {
  "language_info": {
   "codemirror_mode": {
    "name": "ipython",
    "version": 3
   },
   "file_extension": ".py",
   "mimetype": "text/x-python",
   "name": "python",
   "nbconvert_exporter": "python",
   "pygments_lexer": "ipython3",
   "version": "3.8.3-final"
  },
  "orig_nbformat": 2,
  "kernelspec": {
   "name": "python3",
   "display_name": "Python 3"
  }
 },
 "nbformat": 4,
 "nbformat_minor": 2,
 "cells": [
  {
   "cell_type": "code",
   "execution_count": 30,
   "metadata": {},
   "outputs": [],
   "source": [
    "import pandas as pd"
   ]
  },
  {
   "cell_type": "code",
   "execution_count": 33,
   "metadata": {},
   "outputs": [],
   "source": [
    "# Replace 'edit' with 'export?format=csv&' in file url to read from a Google Sheets file.\n",
    "# Be sure that the sharing options is 'Anyone with the link'.\n",
    "\n",
    "file_url = \"https://docs.google.com/spreadsheets/d/1C0BdTXh8XzPRfTzx2UUB4LsCnWCK6zg6Z_b7_jpf_0Y/export?format=csv&?usp=sharing\"\n",
    "\n",
    "df = pd.read_csv(file_url, index_col=\"#\")"
   ]
  },
  {
   "cell_type": "code",
   "execution_count": 34,
   "metadata": {},
   "outputs": [
    {
     "output_type": "execute_result",
     "data": {
      "text/plain": [
       "   listing_date sale_or_rent         re_type    location         rooms   area  \\\n",
       "#                                                                               \n",
       "1     10/3/2020      Satılık           Daire     Maltepe         2 + 1     90   \n",
       "2     10/5/2020      Satılık           Daire     Maltepe         3 + 1    100   \n",
       "3     8/17/2020      Satılık           Plaza    Ataşehir       6 Bölüm    800   \n",
       "4     10/9/2020      Satılık           Daire     Maltepe         2 + 1     90   \n",
       "5     10/9/2020      Satılık           Daire     Maltepe         2 + 1     90   \n",
       "6      9/2/2020      Satılık           Daire     Maltepe         3 + 1    170   \n",
       "7      9/2/2020      Satılık           Daire     Maltepe         2 + 1     95   \n",
       "8     10/9/2020      Satılık           Daire     Kadıköy         2 + 1     85   \n",
       "9     10/9/2020      Satılık  İmarlı - Konut  Arnavutköy  No room data    242   \n",
       "10    10/8/2020      Satılık  İmarlı - Konut  Arnavutköy  No room data  1,355   \n",
       "\n",
       "            age          floor       price  \n",
       "#                                           \n",
       "1             4     Bahçe Katı    ₺650,000  \n",
       "2             3         4. Kat    ₺780,000  \n",
       "3            15  No floor data  ₺3,300,000  \n",
       "4            25     Giriş Katı    ₺450,000  \n",
       "5             6     Bahçe Katı    ₺465,000  \n",
       "6            20     Giriş Katı    ₺680,000  \n",
       "7             7   Yüksek Giriş    ₺435,000  \n",
       "8    Sıfır Bina         1. Kat    ₺775,000  \n",
       "9   No age data  No floor data  ₺1,160,000  \n",
       "10  No age data  No floor data  ₺1,250,000  "
      ],
      "text/html": "<div>\n<style scoped>\n    .dataframe tbody tr th:only-of-type {\n        vertical-align: middle;\n    }\n\n    .dataframe tbody tr th {\n        vertical-align: top;\n    }\n\n    .dataframe thead th {\n        text-align: right;\n    }\n</style>\n<table border=\"1\" class=\"dataframe\">\n  <thead>\n    <tr style=\"text-align: right;\">\n      <th></th>\n      <th>listing_date</th>\n      <th>sale_or_rent</th>\n      <th>re_type</th>\n      <th>location</th>\n      <th>rooms</th>\n      <th>area</th>\n      <th>age</th>\n      <th>floor</th>\n      <th>price</th>\n    </tr>\n    <tr>\n      <th>#</th>\n      <th></th>\n      <th></th>\n      <th></th>\n      <th></th>\n      <th></th>\n      <th></th>\n      <th></th>\n      <th></th>\n      <th></th>\n    </tr>\n  </thead>\n  <tbody>\n    <tr>\n      <th>1</th>\n      <td>10/3/2020</td>\n      <td>Satılık</td>\n      <td>Daire</td>\n      <td>Maltepe</td>\n      <td>2 + 1</td>\n      <td>90</td>\n      <td>4</td>\n      <td>Bahçe Katı</td>\n      <td>₺650,000</td>\n    </tr>\n    <tr>\n      <th>2</th>\n      <td>10/5/2020</td>\n      <td>Satılık</td>\n      <td>Daire</td>\n      <td>Maltepe</td>\n      <td>3 + 1</td>\n      <td>100</td>\n      <td>3</td>\n      <td>4. Kat</td>\n      <td>₺780,000</td>\n    </tr>\n    <tr>\n      <th>3</th>\n      <td>8/17/2020</td>\n      <td>Satılık</td>\n      <td>Plaza</td>\n      <td>Ataşehir</td>\n      <td>6 Bölüm</td>\n      <td>800</td>\n      <td>15</td>\n      <td>No floor data</td>\n      <td>₺3,300,000</td>\n    </tr>\n    <tr>\n      <th>4</th>\n      <td>10/9/2020</td>\n      <td>Satılık</td>\n      <td>Daire</td>\n      <td>Maltepe</td>\n      <td>2 + 1</td>\n      <td>90</td>\n      <td>25</td>\n      <td>Giriş Katı</td>\n      <td>₺450,000</td>\n    </tr>\n    <tr>\n      <th>5</th>\n      <td>10/9/2020</td>\n      <td>Satılık</td>\n      <td>Daire</td>\n      <td>Maltepe</td>\n      <td>2 + 1</td>\n      <td>90</td>\n      <td>6</td>\n      <td>Bahçe Katı</td>\n      <td>₺465,000</td>\n    </tr>\n    <tr>\n      <th>6</th>\n      <td>9/2/2020</td>\n      <td>Satılık</td>\n      <td>Daire</td>\n      <td>Maltepe</td>\n      <td>3 + 1</td>\n      <td>170</td>\n      <td>20</td>\n      <td>Giriş Katı</td>\n      <td>₺680,000</td>\n    </tr>\n    <tr>\n      <th>7</th>\n      <td>9/2/2020</td>\n      <td>Satılık</td>\n      <td>Daire</td>\n      <td>Maltepe</td>\n      <td>2 + 1</td>\n      <td>95</td>\n      <td>7</td>\n      <td>Yüksek Giriş</td>\n      <td>₺435,000</td>\n    </tr>\n    <tr>\n      <th>8</th>\n      <td>10/9/2020</td>\n      <td>Satılık</td>\n      <td>Daire</td>\n      <td>Kadıköy</td>\n      <td>2 + 1</td>\n      <td>85</td>\n      <td>Sıfır Bina</td>\n      <td>1. Kat</td>\n      <td>₺775,000</td>\n    </tr>\n    <tr>\n      <th>9</th>\n      <td>10/9/2020</td>\n      <td>Satılık</td>\n      <td>İmarlı - Konut</td>\n      <td>Arnavutköy</td>\n      <td>No room data</td>\n      <td>242</td>\n      <td>No age data</td>\n      <td>No floor data</td>\n      <td>₺1,160,000</td>\n    </tr>\n    <tr>\n      <th>10</th>\n      <td>10/8/2020</td>\n      <td>Satılık</td>\n      <td>İmarlı - Konut</td>\n      <td>Arnavutköy</td>\n      <td>No room data</td>\n      <td>1,355</td>\n      <td>No age data</td>\n      <td>No floor data</td>\n      <td>₺1,250,000</td>\n    </tr>\n  </tbody>\n</table>\n</div>"
     },
     "metadata": {},
     "execution_count": 34
    }
   ],
   "source": [
    "df.head(10)"
   ]
  },
  {
   "cell_type": "code",
   "execution_count": null,
   "metadata": {},
   "outputs": [],
   "source": []
  }
 ]
}
